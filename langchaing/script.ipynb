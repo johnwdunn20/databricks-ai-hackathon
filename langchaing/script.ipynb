{
 "cells": [
  {
   "cell_type": "code",
   "execution_count": 34,
   "metadata": {},
   "outputs": [],
   "source": [
    "# set up libraries\n",
    "import os\n",
    "from langchain_openai import ChatOpenAI\n",
    "openAI_API_KEY = os.getenv(\"OpenAI_API_KEY\")\n",
    "llm = ChatOpenAI(api_key=openAI_API_KEY)\n"
   ]
  },
  {
   "cell_type": "code",
   "execution_count": 35,
   "metadata": {},
   "outputs": [
    {
     "data": {
      "text/plain": [
       "AIMessage(content='Langsmith can help with testing in several ways:\\n\\n1. Automated testing: Langsmith can be used to create automated tests for software applications, enabling faster and more efficient testing processes.\\n\\n2. Test case generation: Langsmith can generate test cases based on given requirements, helping testers to ensure comprehensive test coverage.\\n\\n3. Test data generation: Langsmith can generate test data to be used in testing scenarios, reducing the manual effort required to create test data.\\n\\n4. Test script creation: Langsmith can be used to create test scripts for various testing tasks, such as functional testing, regression testing, and performance testing.\\n\\n5. Test result analysis: Langsmith can help analyze test results and identify issues or bugs in the software, enabling testers to quickly address and resolve them.\\n\\nOverall, Langsmith can be a valuable tool for testers in streamlining and enhancing the testing process.', response_metadata={'token_usage': {'completion_tokens': 173, 'prompt_tokens': 15, 'total_tokens': 188}, 'model_name': 'gpt-3.5-turbo', 'system_fingerprint': None, 'finish_reason': 'stop', 'logprobs': None}, id='run-d18142d4-1d7f-4e45-87b9-70d357abe27f-0')"
      ]
     },
     "execution_count": 35,
     "metadata": {},
     "output_type": "execute_result"
    }
   ],
   "source": [
    "# test\n",
    "llm.invoke(\"how can langsmith help with testing?\")"
   ]
  },
  {
   "cell_type": "code",
   "execution_count": 36,
   "metadata": {},
   "outputs": [],
   "source": [
    "# Guide response with a template\n",
    "from langchain_core.prompts import ChatPromptTemplate\n",
    "prompt = ChatPromptTemplate.from_messages([\n",
    "    ('system', 'You are a world class technical documentation writer'),\n",
    "    ('user', \"{input}\")\n",
    "])"
   ]
  },
  {
   "cell_type": "code",
   "execution_count": 37,
   "metadata": {},
   "outputs": [],
   "source": [
    "# combine into a chain (I think the pipe, \"|\", is the union set operator. In other scenarios, it could be a bitwise OR operator or a logical OR operator)\n",
    "chain = prompt | llm"
   ]
  },
  {
   "cell_type": "code",
   "execution_count": 38,
   "metadata": {},
   "outputs": [],
   "source": [
    "# test the chain\n",
    "res1 = chain.invoke(\"how can langsmith help with testing?\")\n"
   ]
  },
  {
   "cell_type": "code",
   "execution_count": 44,
   "metadata": {},
   "outputs": [
    {
     "name": "stdout",
     "output_type": "stream",
     "text": [
      "{'token_usage': {'completion_tokens': 270, 'prompt_tokens': 27, 'total_tokens': 297}, 'model_name': 'gpt-3.5-turbo', 'system_fingerprint': None, 'finish_reason': 'stop', 'logprobs': None}\n",
      "Langsmith can be a valuable tool for testing in several ways:\n",
      "\n",
      "1. **Automated Testing:** Langsmith can be used to generate test data for automated testing. By creating realistic data sets using Langsmith, testers can ensure that their automated tests cover a wide range of scenarios and edge cases.\n",
      "\n",
      "2. **Load Testing:** Langsmith can be used to create large volumes of realistic data to simulate heavy loads on systems. This can help testers identify performance bottlenecks and ensure that the system can handle the expected number of users.\n",
      "\n",
      "3. **Integration Testing:** Langsmith can generate data for integration testing between different components of a system. By creating consistent and varied test data, testers can verify that different parts of the system work together as expected.\n",
      "\n",
      "4. **Regression Testing:** Langsmith can be used to quickly generate test data for regression testing. By reusing generated data sets, testers can easily repeat tests to ensure that new changes have not introduced any unintended side effects.\n",
      "\n",
      "5. **Boundary Testing:** Langsmith can help testers create data sets that test the boundaries of input ranges, helping to identify any issues related to input validation or boundary conditions.\n",
      "\n",
      "Overall, Langsmith can streamline the testing process by providing testers with realistic and diverse data sets that cover a wide range of scenarios, allowing them to thoroughly test the system and ensure its reliability and robustness.\n"
     ]
    }
   ],
   "source": [
    "print(res1.response_metadata)\n",
    "print(res1.content)"
   ]
  },
  {
   "cell_type": "code",
   "execution_count": 45,
   "metadata": {},
   "outputs": [
    {
     "name": "stdout",
     "output_type": "stream",
     "text": [
      "content :  Langsmith can be a valuable tool for testing in several ways:\n",
      "\n",
      "1. **Automated Testing:** Langsmith can be used to generate test data for automated testing. By creating realistic data sets using Langsmith, testers can ensure that their automated tests cover a wide range of scenarios and edge cases.\n",
      "\n",
      "2. **Load Testing:** Langsmith can be used to create large volumes of realistic data to simulate heavy loads on systems. This can help testers identify performance bottlenecks and ensure that the system can handle the expected number of users.\n",
      "\n",
      "3. **Integration Testing:** Langsmith can generate data for integration testing between different components of a system. By creating consistent and varied test data, testers can verify that different parts of the system work together as expected.\n",
      "\n",
      "4. **Regression Testing:** Langsmith can be used to quickly generate test data for regression testing. By reusing generated data sets, testers can easily repeat tests to ensure that new changes have not introduced any unintended side effects.\n",
      "\n",
      "5. **Boundary Testing:** Langsmith can help testers create data sets that test the boundaries of input ranges, helping to identify any issues related to input validation or boundary conditions.\n",
      "\n",
      "Overall, Langsmith can streamline the testing process by providing testers with realistic and diverse data sets that cover a wide range of scenarios, allowing them to thoroughly test the system and ensure its reliability and robustness.\n",
      "\n",
      "additional_kwargs :  {}\n",
      "\n",
      "response_metadata :  {'token_usage': {'completion_tokens': 270, 'prompt_tokens': 27, 'total_tokens': 297}, 'model_name': 'gpt-3.5-turbo', 'system_fingerprint': None, 'finish_reason': 'stop', 'logprobs': None}\n",
      "\n",
      "type :  ai\n",
      "\n",
      "name :  None\n",
      "\n",
      "id :  run-0f92315c-2e1f-46aa-88be-c5c8bea7cc5f-0\n",
      "\n",
      "example :  False\n",
      "\n",
      "tool_calls :  []\n",
      "\n",
      "invalid_tool_calls :  []\n",
      "\n"
     ]
    }
   ],
   "source": [
    "# print out all attributes and their values\n",
    "\n",
    "for attr_name, attr_val in vars(res1).items():\n",
    "    print(attr_name, \": \", attr_val)\n",
    "    print(\"\")\n"
   ]
  },
  {
   "cell_type": "code",
   "execution_count": 40,
   "metadata": {},
   "outputs": [],
   "source": [
    "# use an output parser to make the response more readable\n",
    "from langchain_core.output_parsers import StrOutputParser\n",
    "output_parser = StrOutputParser()\n",
    "chain = prompt | llm | output_parser"
   ]
  },
  {
   "cell_type": "code",
   "execution_count": 41,
   "metadata": {},
   "outputs": [],
   "source": [
    "# test the new chain\n",
    "res2 = chain.invoke(\"how can langsmith help with testing?\")"
   ]
  },
  {
   "cell_type": "code",
   "execution_count": 42,
   "metadata": {},
   "outputs": [
    {
     "name": "stdout",
     "output_type": "stream",
     "text": [
      "Langsmith can greatly aid in testing by providing automated language generation capabilities. By using Langsmith, testers can easily create a wide variety of test cases with different linguistic variations, such as different languages, tones, styles, and more. This can help in ensuring comprehensive test coverage and identifying potential issues related to language handling in the software.\n",
      "\n",
      "Additionally, Langsmith can be used to generate realistic and diverse data sets for testing purposes. This can include generating synthetic text data for training machine learning models, testing natural language processing algorithms, or validating the behavior of language-dependent features in a software application.\n",
      "\n",
      "Furthermore, Langsmith can assist in creating automated tests that involve natural language inputs or outputs. By leveraging its language generation capabilities, testers can automate the generation and validation of test cases that involve complex language interactions, such as chatbots, language processing systems, or voice recognition software.\n",
      "\n",
      "Overall, Langsmith can streamline the testing process, enhance test coverage, and improve the quality of language-related features in software applications.\n"
     ]
    }
   ],
   "source": [
    "print(res2)"
   ]
  },
  {
   "cell_type": "code",
   "execution_count": 46,
   "metadata": {},
   "outputs": [],
   "source": [
    "# retrieval is used when you have too much data to pass to the llm\n",
    "# So you use a retriever to fetch the most relevant data and pass it to the llm\n",
    "# Using a web retriever (requires bs4 to be installed)\n",
    "from langchain_community.document_loaders import WebBaseLoader\n",
    "loader = WebBaseLoader(\"https://docs.smith.langchain.com/user_guide\")\n",
    "docs = loader.load()\n"
   ]
  },
  {
   "cell_type": "code",
   "execution_count": 47,
   "metadata": {},
   "outputs": [
    {
     "name": "stdout",
     "output_type": "stream",
     "text": [
      "[Document(page_content=\"\\n\\n\\n\\n\\nLangSmith User Guide | 🦜️🛠️ LangSmith\\n\\n\\n\\n\\n\\n\\n\\nSkip to main contentLangSmith API DocsSearchGo to AppQuick StartUser GuideTracingEvaluationProduction Monitoring & AutomationsPrompt HubProxyPricingSelf-HostingCookbookThis is outdated documentation for 🦜️🛠️ LangSmith, which is no longer actively maintained.For up-to-date documentation, see the latest version.User GuideOn this pageLangSmith User GuideLangSmith is a platform for LLM application development, monitoring, and testing. In this guide, we’ll highlight the breadth of workflows LangSmith supports and how they fit into each stage of the application development lifecycle. We hope this will inform users how to best utilize this powerful platform or give them something to consider if they’re just starting their journey.Prototyping\\u200bPrototyping LLM applications often involves quick experimentation between prompts, model types, retrieval strategy and other parameters.\\nThe ability to rapidly understand how the model is performing — and debug where it is failing — is incredibly important for this phase.Debugging\\u200bWhen developing new LLM applications, we suggest having LangSmith tracing enabled by default.\\nOftentimes, it isn’t necessary to look at every single trace. However, when things go wrong (an unexpected end result, infinite agent loop, slower than expected execution, higher than expected token usage), it’s extremely helpful to debug by looking through the application traces. LangSmith gives clear visibility and debugging information at each step of an LLM sequence, making it much easier to identify and root-cause issues.\\nWe provide native rendering of chat messages, functions, and retrieve documents.Initial Test Set\\u200bWhile many developers still ship an initial version of their application based on “vibe checks”, we’ve seen an increasing number of engineering teams start to adopt a more test driven approach. LangSmith allows developers to create datasets, which are collections of inputs and reference outputs, and use these to run tests on their LLM applications.\\nThese test cases can be uploaded in bulk, created on the fly, or exported from application traces. LangSmith also makes it easy to run custom evaluations (both LLM and heuristic based) to score test results.Comparison View\\u200bWhen prototyping different versions of your applications and making changes, it’s important to see whether or not you’ve regressed with respect to your initial test cases.\\nOftentimes, changes in the prompt, retrieval strategy, or model choice can have huge implications in responses produced by your application.\\nIn order to get a sense for which variant is performing better, it’s useful to be able to view results for different configurations on the same datapoints side-by-side. We’ve invested heavily in a user-friendly comparison view for test runs to track and diagnose regressions in test scores across multiple revisions of your application.Playground\\u200bLangSmith provides a playground environment for rapid iteration and experimentation.\\nThis allows you to quickly test out different prompts and models. You can open the playground from any prompt or model run in your trace.\\nEvery playground run is logged in the system and can be used to create test cases or compare with other runs.Beta Testing\\u200bBeta testing allows developers to collect more data on how their LLM applications are performing in real-world scenarios. In this phase, it’s important to develop an understanding for the types of inputs the app is performing well or poorly on and how exactly it’s breaking down in those cases. Both feedback collection and run annotation are critical for this workflow. This will help in curation of test cases that can help track regressions/improvements and development of automatic evaluations.Capturing Feedback\\u200bWhen launching your application to an initial set of users, it’s important to gather human feedback on the responses it’s producing. This helps draw attention to the most interesting runs and highlight edge cases that are causing problematic responses. LangSmith allows you to attach feedback scores to logged traces (oftentimes, this is hooked up to a feedback button in your app), then filter on traces that have a specific feedback tag and score. A common workflow is to filter on traces that receive a poor user feedback score, then drill down into problematic points using the detailed trace view.Annotating Traces\\u200bLangSmith also supports sending runs to annotation queues, which allow annotators to closely inspect interesting traces and annotate them with respect to different criteria. Annotators can be PMs, engineers, or even subject matter experts. This allows users to catch regressions across important evaluation criteria.Adding Runs to a Dataset\\u200bAs your application progresses through the beta testing phase, it's essential to continue collecting data to refine and improve its performance. LangSmith enables you to add runs as examples to datasets (from both the project page and within an annotation queue), expanding your test coverage on real-world scenarios. This is a key benefit in having your logging system and your evaluation/testing system in the same platform.Production\\u200bClosely inspecting key data points, growing benchmarking datasets, annotating traces, and drilling down into important data in trace view are workflows you’ll also want to do once your app hits production.However, especially at the production stage, it’s crucial to get a high-level overview of application performance with respect to latency, cost, and feedback scores. This ensures that it's delivering desirable results at scale.Online evaluations and automations allow you to process and score production traces in near real-time.Additionally, threads provide a seamless way to group traces from a single conversation, making it easier to track the performance of your application across multiple turns.Monitoring and A/B Testing\\u200bLangSmith provides monitoring charts that allow you to track key metrics over time. You can expand to view metrics for a given period and drill down into a specific data point to get a trace table for that time period — this is especially handy for debugging production issues.LangSmith also allows for tag and metadata grouping, which allows users to mark different versions of their applications with different identifiers and view how they are performing side-by-side within each chart. This is helpful for A/B testing changes in prompt, model, or retrieval strategy.Automations\\u200bAutomations are a powerful feature in LangSmith that allow you to perform actions on traces in near real-time. This can be used to automatically score traces, send them to annotation queues, or send them to datasets.To define an automation, simply provide a filter condition, a sampling rate, and an action to perform. Automations are particularly helpful for processing traces at production scale.Threads\\u200bMany LLM applications are multi-turn, meaning that they involve a series of interactions between the user and the application. LangSmith provides a threads view that groups traces from a single conversation together, making it easier to track the performance of and annotate your application across multiple turns.Was this page helpful?PreviousQuick StartNextOverviewPrototypingBeta TestingProductionCommunityDiscordTwitterGitHubDocs CodeLangSmith SDKPythonJS/TSMoreHomepageBlogLangChain Python DocsLangChain JS/TS DocsCopyright © 2024 LangChain, Inc.\\n\\n\\n\\n\", metadata={'source': 'https://docs.smith.langchain.com/user_guide', 'title': 'LangSmith User Guide | 🦜️🛠️ LangSmith', 'description': 'LangSmith is a platform for LLM application development, monitoring, and testing. In this guide, we’ll highlight the breadth of workflows LangSmith supports and how they fit into each stage of the application development lifecycle. We hope this will inform users how to best utilize this powerful platform or give them something to consider if they’re just starting their journey.', 'language': 'en'})]\n"
     ]
    }
   ],
   "source": [
    "print(docs)"
   ]
  },
  {
   "cell_type": "code",
   "execution_count": 48,
   "metadata": {},
   "outputs": [],
   "source": [
    "# Then embed docs into a vector store\n",
    "from langchain_openai import OpenAIEmbeddings\n",
    "embeddings = OpenAIEmbeddings()"
   ]
  }
 ],
 "metadata": {
  "kernelspec": {
   "display_name": "venv",
   "language": "python",
   "name": "python3"
  },
  "language_info": {
   "codemirror_mode": {
    "name": "ipython",
    "version": 3
   },
   "file_extension": ".py",
   "mimetype": "text/x-python",
   "name": "python",
   "nbconvert_exporter": "python",
   "pygments_lexer": "ipython3",
   "version": "3.11.5"
  }
 },
 "nbformat": 4,
 "nbformat_minor": 2
}
