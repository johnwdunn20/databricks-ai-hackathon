{
 "cells": [
  {
   "cell_type": "code",
   "execution_count": 1,
   "metadata": {},
   "outputs": [],
   "source": [
    "# set up libraries\n",
    "import os\n",
    "from langchain_openai import ChatOpenAI\n",
    "openAI_API_KEY = os.getenv(\"OpenAI_API_KEY\")\n",
    "llm = ChatOpenAI(api_key=openAI_API_KEY)\n"
   ]
  },
  {
   "cell_type": "code",
   "execution_count": 2,
   "metadata": {},
   "outputs": [
    {
     "data": {
      "text/plain": [
       "AIMessage(content='Langsmith can help with testing in the following ways:\\n\\n1. Automated testing: Langsmith can be used to create scripts and automate testing processes, allowing for quicker and more efficient testing of software applications.\\n\\n2. Language support: Langsmith offers support for multiple programming languages, allowing for testing of a wide range of software applications.\\n\\n3. Integration testing: Langsmith can be integrated with other testing tools and frameworks, allowing for comprehensive testing of software applications.\\n\\n4. Performance testing: Langsmith can be used to conduct performance testing of software applications, helping to identify and resolve performance issues.\\n\\n5. Continuous integration: Langsmith can be integrated with continuous integration tools, allowing for automated testing of software applications as part of the development process.', response_metadata={'token_usage': {'completion_tokens': 145, 'prompt_tokens': 15, 'total_tokens': 160}, 'model_name': 'gpt-3.5-turbo', 'system_fingerprint': None, 'finish_reason': 'stop', 'logprobs': None}, id='run-4ecc08cc-f5d5-4cb9-90fc-402d6729e551-0')"
      ]
     },
     "execution_count": 2,
     "metadata": {},
     "output_type": "execute_result"
    }
   ],
   "source": [
    "# test\n",
    "llm.invoke(\"how can langsmith help with testing?\")"
   ]
  },
  {
   "cell_type": "code",
   "execution_count": 4,
   "metadata": {},
   "outputs": [],
   "source": [
    "# Guide response with a template\n",
    "from langchain_core.prompts import ChatPromptTemplate\n",
    "prompt = ChatPromptTemplate.from_messages([\n",
    "    ('system', 'You are a world class technical documentation writer'),\n",
    "    ('user', \"{input}\")\n",
    "])"
   ]
  },
  {
   "cell_type": "code",
   "execution_count": 5,
   "metadata": {},
   "outputs": [],
   "source": [
    "# combine into a chain (I think the pipe, \"|\", is the union set operator. In other scenarios, it could be a bitwise OR operator or a logical OR operator)\n",
    "chain = prompt | llm"
   ]
  },
  {
   "cell_type": "code",
   "execution_count": 6,
   "metadata": {},
   "outputs": [],
   "source": [
    "# test the chain\n",
    "chain.invoke(\"how can langsmith help with testing?\")"
   ]
  }
 ],
 "metadata": {
  "kernelspec": {
   "display_name": "venv",
   "language": "python",
   "name": "python3"
  },
  "language_info": {
   "codemirror_mode": {
    "name": "ipython",
    "version": 3
   },
   "file_extension": ".py",
   "mimetype": "text/x-python",
   "name": "python",
   "nbconvert_exporter": "python",
   "pygments_lexer": "ipython3",
   "version": "3.11.5"
  }
 },
 "nbformat": 4,
 "nbformat_minor": 2
}
