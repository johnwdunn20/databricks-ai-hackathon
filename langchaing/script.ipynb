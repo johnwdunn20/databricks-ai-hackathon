{
 "cells": [
  {
   "cell_type": "code",
   "execution_count": 11,
   "metadata": {},
   "outputs": [],
   "source": [
    "# set up libraries\n",
    "import os\n",
    "from langchain_openai import ChatOpenAI\n",
    "openAI_API_KEY = os.getenv(\"OpenAI_API_KEY\")\n",
    "llm = ChatOpenAI(api_key=openAI_API_KEY)\n"
   ]
  },
  {
   "cell_type": "code",
   "execution_count": 12,
   "metadata": {},
   "outputs": [
    {
     "data": {
      "text/plain": [
       "AIMessage(content='1. Langsmith can provide automated testing services, which can help in the efficient and accurate testing of software applications.\\n\\n2. Langsmith can assist in creating test scripts and scenarios for various testing phases, such as unit testing, integration testing, and regression testing.\\n\\n3. Langsmith can help in identifying and prioritizing test cases based on the critical functionalities of the software application.\\n\\n4. Langsmith can provide expertise in setting up testing environments and tools, ensuring a smooth and effective testing process.\\n\\n5. Langsmith can perform performance testing to assess the scalability and reliability of the software application under different load conditions.\\n\\n6. Langsmith can offer expertise in security testing to identify vulnerabilities and ensure that the software application is secure from potential threats.\\n\\n7. Langsmith can provide detailed reports and analysis of test results, helping in identifying and resolving issues in the software application.\\n\\n8. Langsmith can collaborate with development teams to ensure that testing is integrated into the software development process, enabling continuous testing and feedback loops.', response_metadata={'token_usage': {'completion_tokens': 199, 'prompt_tokens': 15, 'total_tokens': 214}, 'model_name': 'gpt-3.5-turbo', 'system_fingerprint': None, 'finish_reason': 'stop', 'logprobs': None}, id='run-f0f79ecc-30e4-46fb-8c03-f6464c411874-0')"
      ]
     },
     "execution_count": 12,
     "metadata": {},
     "output_type": "execute_result"
    }
   ],
   "source": [
    "# test\n",
    "llm.invoke(\"how can langsmith help with testing?\")"
   ]
  },
  {
   "cell_type": "code",
   "execution_count": 13,
   "metadata": {},
   "outputs": [],
   "source": [
    "# Guide response with a template\n",
    "from langchain_core.prompts import ChatPromptTemplate\n",
    "prompt = ChatPromptTemplate.from_messages([\n",
    "    ('system', 'You are a world class technical documentation writer'),\n",
    "    ('user', \"{input}\")\n",
    "])"
   ]
  },
  {
   "cell_type": "code",
   "execution_count": 18,
   "metadata": {},
   "outputs": [],
   "source": [
    "# combine into a chain (I think the pipe, \"|\", is the union set operator. In other scenarios, it could be a bitwise OR operator or a logical OR operator)\n",
    "chain = prompt | llm"
   ]
  },
  {
   "cell_type": "code",
   "execution_count": 21,
   "metadata": {},
   "outputs": [],
   "source": [
    "# test the chain\n",
    "res = chain.invoke(\"how can langsmith help with testing?\")\n"
   ]
  },
  {
   "cell_type": "code",
   "execution_count": 25,
   "metadata": {},
   "outputs": [
    {
     "name": "stdout",
     "output_type": "stream",
     "text": [
      "{'token_usage': {'completion_tokens': 170, 'prompt_tokens': 27, 'total_tokens': 197}, 'model_name': 'gpt-3.5-turbo', 'system_fingerprint': None, 'finish_reason': 'stop', 'logprobs': None}\n",
      "Langsmith can help with testing in several ways:\n",
      "\n",
      "1. Automated testing: Langsmith can generate test scripts in various programming languages to automate the testing process. This can help in saving time and effort in manual testing.\n",
      "\n",
      "2. Test data generation: Langsmith can create realistic and diverse test data to ensure comprehensive test coverage. This can help in identifying edge cases and potential issues in the software.\n",
      "\n",
      "3. Test case generation: Langsmith can generate test cases based on the requirements and specifications of the software. This can help in ensuring that all functionalities are tested thoroughly.\n",
      "\n",
      "4. Integration with testing frameworks: Langsmith can integrate with popular testing frameworks such as JUnit, Selenium, and TestNG to streamline the testing process and provide detailed test reports.\n",
      "\n",
      "Overall, Langsmith can be a valuable tool in enhancing the efficiency and effectiveness of testing processes in software development.\n"
     ]
    }
   ],
   "source": [
    "print(res.response_metadata)\n",
    "print(res.content)\n",
    "    "
   ]
  },
  {
   "cell_type": "code",
   "execution_count": 26,
   "metadata": {},
   "outputs": [],
   "source": [
    "# use an output parser to make the response more readable\n",
    "from langchain_core.output_parsers import StrOutputParser\n",
    "output_parser = StrOutputParser()\n",
    "chain = prompt | llm | output_parser"
   ]
  },
  {
   "cell_type": "code",
   "execution_count": 27,
   "metadata": {},
   "outputs": [],
   "source": [
    "# test the new chain\n",
    "res = chain.invoke(\"how can langsmith help with testing?\")"
   ]
  },
  {
   "cell_type": "code",
   "execution_count": 31,
   "metadata": {},
   "outputs": [
    {
     "name": "stdout",
     "output_type": "stream",
     "text": [
      "Langsmith can help with testing in a variety of ways, including:\n",
      "\n",
      "1. Test automation: Langsmith can be used to create automated tests for various aspects of your software application. By leveraging its language processing capabilities, Langsmith can help generate test scripts that cover a wide range of scenarios, saving time and effort in the testing process.\n",
      "\n",
      "2. Test case generation: Langsmith can analyze requirements and specifications to automatically generate test cases for different functionalities of the software. This can help ensure comprehensive test coverage and reduce the risk of missing critical test scenarios.\n",
      "\n",
      "3. Test data generation: Langsmith can assist in generating test data that covers various input combinations and edge cases, helping to uncover potential issues in the software under test.\n",
      "\n",
      "4. Test result analysis: Langsmith can be used to analyze test results and identify patterns or anomalies that may require further investigation. This can help testers quickly pinpoint areas of concern and focus their efforts on resolving issues.\n",
      "\n",
      "Overall, Langsmith can streamline the testing process, improve test coverage, and enhance the efficiency and effectiveness of testing activities.\n"
     ]
    }
   ],
   "source": [
    "print(res)"
   ]
  },
  {
   "cell_type": "code",
   "execution_count": null,
   "metadata": {},
   "outputs": [],
   "source": [
    "# retrieval is used when you have too much data to pass to the llm\n",
    "# So you use a retriever to fetch the most relevant data and pass it to the llm\n"
   ]
  }
 ],
 "metadata": {
  "kernelspec": {
   "display_name": "venv",
   "language": "python",
   "name": "python3"
  },
  "language_info": {
   "codemirror_mode": {
    "name": "ipython",
    "version": 3
   },
   "file_extension": ".py",
   "mimetype": "text/x-python",
   "name": "python",
   "nbconvert_exporter": "python",
   "pygments_lexer": "ipython3",
   "version": "3.11.5"
  }
 },
 "nbformat": 4,
 "nbformat_minor": 2
}
