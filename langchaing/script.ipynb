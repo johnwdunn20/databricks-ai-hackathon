{
 "cells": [
  {
   "cell_type": "code",
   "execution_count": 34,
   "metadata": {},
   "outputs": [],
   "source": [
    "# set up libraries\n",
    "import os\n",
    "from langchain_openai import ChatOpenAI\n",
    "openAI_API_KEY = os.getenv(\"OpenAI_API_KEY\")\n",
    "llm = ChatOpenAI(api_key=openAI_API_KEY)\n"
   ]
  },
  {
   "cell_type": "code",
   "execution_count": 35,
   "metadata": {},
   "outputs": [
    {
     "data": {
      "text/plain": [
       "AIMessage(content='Langsmith can help with testing in several ways:\\n\\n1. Automated testing: Langsmith can be used to create automated tests for software applications, enabling faster and more efficient testing processes.\\n\\n2. Test case generation: Langsmith can generate test cases based on given requirements, helping testers to ensure comprehensive test coverage.\\n\\n3. Test data generation: Langsmith can generate test data to be used in testing scenarios, reducing the manual effort required to create test data.\\n\\n4. Test script creation: Langsmith can be used to create test scripts for various testing tasks, such as functional testing, regression testing, and performance testing.\\n\\n5. Test result analysis: Langsmith can help analyze test results and identify issues or bugs in the software, enabling testers to quickly address and resolve them.\\n\\nOverall, Langsmith can be a valuable tool for testers in streamlining and enhancing the testing process.', response_metadata={'token_usage': {'completion_tokens': 173, 'prompt_tokens': 15, 'total_tokens': 188}, 'model_name': 'gpt-3.5-turbo', 'system_fingerprint': None, 'finish_reason': 'stop', 'logprobs': None}, id='run-d18142d4-1d7f-4e45-87b9-70d357abe27f-0')"
      ]
     },
     "execution_count": 35,
     "metadata": {},
     "output_type": "execute_result"
    }
   ],
   "source": [
    "# test\n",
    "llm.invoke(\"how can langsmith help with testing?\")"
   ]
  },
  {
   "cell_type": "code",
   "execution_count": 36,
   "metadata": {},
   "outputs": [],
   "source": [
    "# Guide response with a template\n",
    "from langchain_core.prompts import ChatPromptTemplate\n",
    "prompt = ChatPromptTemplate.from_messages([\n",
    "    ('system', 'You are a world class technical documentation writer'),\n",
    "    ('user', \"{input}\")\n",
    "])"
   ]
  },
  {
   "cell_type": "code",
   "execution_count": 37,
   "metadata": {},
   "outputs": [],
   "source": [
    "# combine into a chain (I think the pipe, \"|\", is the union set operator. In other scenarios, it could be a bitwise OR operator or a logical OR operator)\n",
    "chain = prompt | llm"
   ]
  },
  {
   "cell_type": "code",
   "execution_count": 38,
   "metadata": {},
   "outputs": [],
   "source": [
    "# test the chain\n",
    "res1 = chain.invoke(\"how can langsmith help with testing?\")\n"
   ]
  },
  {
   "cell_type": "code",
   "execution_count": 44,
   "metadata": {},
   "outputs": [
    {
     "name": "stdout",
     "output_type": "stream",
     "text": [
      "{'token_usage': {'completion_tokens': 270, 'prompt_tokens': 27, 'total_tokens': 297}, 'model_name': 'gpt-3.5-turbo', 'system_fingerprint': None, 'finish_reason': 'stop', 'logprobs': None}\n",
      "Langsmith can be a valuable tool for testing in several ways:\n",
      "\n",
      "1. **Automated Testing:** Langsmith can be used to generate test data for automated testing. By creating realistic data sets using Langsmith, testers can ensure that their automated tests cover a wide range of scenarios and edge cases.\n",
      "\n",
      "2. **Load Testing:** Langsmith can be used to create large volumes of realistic data to simulate heavy loads on systems. This can help testers identify performance bottlenecks and ensure that the system can handle the expected number of users.\n",
      "\n",
      "3. **Integration Testing:** Langsmith can generate data for integration testing between different components of a system. By creating consistent and varied test data, testers can verify that different parts of the system work together as expected.\n",
      "\n",
      "4. **Regression Testing:** Langsmith can be used to quickly generate test data for regression testing. By reusing generated data sets, testers can easily repeat tests to ensure that new changes have not introduced any unintended side effects.\n",
      "\n",
      "5. **Boundary Testing:** Langsmith can help testers create data sets that test the boundaries of input ranges, helping to identify any issues related to input validation or boundary conditions.\n",
      "\n",
      "Overall, Langsmith can streamline the testing process by providing testers with realistic and diverse data sets that cover a wide range of scenarios, allowing them to thoroughly test the system and ensure its reliability and robustness.\n"
     ]
    }
   ],
   "source": [
    "print(res1.response_metadata)\n",
    "print(res1.content)"
   ]
  },
  {
   "cell_type": "code",
   "execution_count": 45,
   "metadata": {},
   "outputs": [
    {
     "name": "stdout",
     "output_type": "stream",
     "text": [
      "content :  Langsmith can be a valuable tool for testing in several ways:\n",
      "\n",
      "1. **Automated Testing:** Langsmith can be used to generate test data for automated testing. By creating realistic data sets using Langsmith, testers can ensure that their automated tests cover a wide range of scenarios and edge cases.\n",
      "\n",
      "2. **Load Testing:** Langsmith can be used to create large volumes of realistic data to simulate heavy loads on systems. This can help testers identify performance bottlenecks and ensure that the system can handle the expected number of users.\n",
      "\n",
      "3. **Integration Testing:** Langsmith can generate data for integration testing between different components of a system. By creating consistent and varied test data, testers can verify that different parts of the system work together as expected.\n",
      "\n",
      "4. **Regression Testing:** Langsmith can be used to quickly generate test data for regression testing. By reusing generated data sets, testers can easily repeat tests to ensure that new changes have not introduced any unintended side effects.\n",
      "\n",
      "5. **Boundary Testing:** Langsmith can help testers create data sets that test the boundaries of input ranges, helping to identify any issues related to input validation or boundary conditions.\n",
      "\n",
      "Overall, Langsmith can streamline the testing process by providing testers with realistic and diverse data sets that cover a wide range of scenarios, allowing them to thoroughly test the system and ensure its reliability and robustness.\n",
      "\n",
      "additional_kwargs :  {}\n",
      "\n",
      "response_metadata :  {'token_usage': {'completion_tokens': 270, 'prompt_tokens': 27, 'total_tokens': 297}, 'model_name': 'gpt-3.5-turbo', 'system_fingerprint': None, 'finish_reason': 'stop', 'logprobs': None}\n",
      "\n",
      "type :  ai\n",
      "\n",
      "name :  None\n",
      "\n",
      "id :  run-0f92315c-2e1f-46aa-88be-c5c8bea7cc5f-0\n",
      "\n",
      "example :  False\n",
      "\n",
      "tool_calls :  []\n",
      "\n",
      "invalid_tool_calls :  []\n",
      "\n"
     ]
    }
   ],
   "source": [
    "# print out all attributes and their values\n",
    "\n",
    "for attr_name, attr_val in vars(res1).items():\n",
    "    print(attr_name, \": \", attr_val)\n",
    "    print(\"\")\n"
   ]
  },
  {
   "cell_type": "code",
   "execution_count": 40,
   "metadata": {},
   "outputs": [],
   "source": [
    "# use an output parser to make the response more readable\n",
    "from langchain_core.output_parsers import StrOutputParser\n",
    "output_parser = StrOutputParser()\n",
    "chain = prompt | llm | output_parser"
   ]
  },
  {
   "cell_type": "code",
   "execution_count": 41,
   "metadata": {},
   "outputs": [],
   "source": [
    "# test the new chain\n",
    "res2 = chain.invoke(\"how can langsmith help with testing?\")"
   ]
  },
  {
   "cell_type": "code",
   "execution_count": 42,
   "metadata": {},
   "outputs": [
    {
     "name": "stdout",
     "output_type": "stream",
     "text": [
      "Langsmith can greatly aid in testing by providing automated language generation capabilities. By using Langsmith, testers can easily create a wide variety of test cases with different linguistic variations, such as different languages, tones, styles, and more. This can help in ensuring comprehensive test coverage and identifying potential issues related to language handling in the software.\n",
      "\n",
      "Additionally, Langsmith can be used to generate realistic and diverse data sets for testing purposes. This can include generating synthetic text data for training machine learning models, testing natural language processing algorithms, or validating the behavior of language-dependent features in a software application.\n",
      "\n",
      "Furthermore, Langsmith can assist in creating automated tests that involve natural language inputs or outputs. By leveraging its language generation capabilities, testers can automate the generation and validation of test cases that involve complex language interactions, such as chatbots, language processing systems, or voice recognition software.\n",
      "\n",
      "Overall, Langsmith can streamline the testing process, enhance test coverage, and improve the quality of language-related features in software applications.\n"
     ]
    }
   ],
   "source": [
    "print(res2)"
   ]
  },
  {
   "cell_type": "code",
   "execution_count": 43,
   "metadata": {},
   "outputs": [],
   "source": [
    "# retrieval is used when you have too much data to pass to the llm\n",
    "# So you use a retriever to fetch the most relevant data and pass it to the llm\n"
   ]
  }
 ],
 "metadata": {
  "kernelspec": {
   "display_name": "venv",
   "language": "python",
   "name": "python3"
  },
  "language_info": {
   "codemirror_mode": {
    "name": "ipython",
    "version": 3
   },
   "file_extension": ".py",
   "mimetype": "text/x-python",
   "name": "python",
   "nbconvert_exporter": "python",
   "pygments_lexer": "ipython3",
   "version": "3.11.5"
  }
 },
 "nbformat": 4,
 "nbformat_minor": 2
}
