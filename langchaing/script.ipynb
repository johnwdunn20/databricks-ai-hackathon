{
 "cells": [
  {
   "cell_type": "code",
   "execution_count": 1,
   "metadata": {},
   "outputs": [],
   "source": [
    "# set up libraries\n",
    "import os\n",
    "from langchain_openai import ChatOpenAI\n",
    "openAI_API_KEY = os.getenv(\"OpenAI_API_KEY\")\n",
    "llm = ChatOpenAI(api_key=openAI_API_KEY)\n"
   ]
  },
  {
   "cell_type": "code",
   "execution_count": 2,
   "metadata": {},
   "outputs": [
    {
     "data": {
      "text/plain": [
       "AIMessage(content='Langsmith can help with testing in the following ways:\\n\\n1. Automated testing: Langsmith can be used to create scripts and automate testing processes, allowing for quicker and more efficient testing of software applications.\\n\\n2. Language support: Langsmith offers support for multiple programming languages, allowing for testing of a wide range of software applications.\\n\\n3. Integration testing: Langsmith can be integrated with other testing tools and frameworks, allowing for comprehensive testing of software applications.\\n\\n4. Performance testing: Langsmith can be used to conduct performance testing of software applications, helping to identify and resolve performance issues.\\n\\n5. Continuous integration: Langsmith can be integrated with continuous integration tools, allowing for automated testing of software applications as part of the development process.', response_metadata={'token_usage': {'completion_tokens': 145, 'prompt_tokens': 15, 'total_tokens': 160}, 'model_name': 'gpt-3.5-turbo', 'system_fingerprint': None, 'finish_reason': 'stop', 'logprobs': None}, id='run-4ecc08cc-f5d5-4cb9-90fc-402d6729e551-0')"
      ]
     },
     "execution_count": 2,
     "metadata": {},
     "output_type": "execute_result"
    }
   ],
   "source": [
    "# test\n",
    "llm.invoke(\"how can langsmith help with testing?\")"
   ]
  },
  {
   "cell_type": "code",
   "execution_count": 4,
   "metadata": {},
   "outputs": [],
   "source": [
    "# Guide response with a template\n",
    "from langchain_core.prompts import ChatPromptTemplate\n",
    "prompt = ChatPromptTemplate.from_messages([\n",
    "    ('system', 'You are a world class technical documentation writer'),\n",
    "    ('user', \"{input}\")\n",
    "])"
   ]
  },
  {
   "cell_type": "code",
   "execution_count": 5,
   "metadata": {},
   "outputs": [],
   "source": [
    "# combine into a chain (I think the pipe, \"|\", is the union set operator. In other scenarios, it could be a bitwise OR operator or a logical OR operator)\n",
    "chain = prompt | llm"
   ]
  },
  {
   "cell_type": "code",
   "execution_count": 6,
   "metadata": {},
   "outputs": [
    {
     "data": {
      "text/plain": [
       "AIMessage(content='Langsmith is a powerful tool that can greatly assist with testing in various ways. Here are some ways in which Langsmith can be helpful for testing purposes:\\n\\n1. **Automated Testing**: Langsmith can be used to automate testing processes, making it easier to run tests repeatedly and ensuring consistent results. By writing test scripts in Langsmith, you can automate the testing of your software applications, APIs, or websites.\\n\\n2. **Integration Testing**: Langsmith can be used for integration testing, where different components of a system are tested together to ensure they work correctly as a whole. With Langsmith, you can simulate interactions between various components and test the integration points.\\n\\n3. **Load Testing**: Langsmith can be used to simulate high loads on a system to test its performance under stress. By writing scripts that generate a large number of requests, you can use Langsmith to conduct load testing and identify performance bottlenecks.\\n\\n4. **Regression Testing**: Langsmith can be used for regression testing to ensure that new changes or updates to a system do not introduce new bugs or issues. By writing test scripts that cover critical functionalities, you can use Langsmith to run regression tests and validate that existing features still work as expected.\\n\\n5. **API Testing**: Langsmith can be used for testing APIs by sending requests and validating responses. You can write scripts in Langsmith to test different API endpoints, verify data formats, and check for error handling.\\n\\n6. **Data-Driven Testing**: Langsmith supports data-driven testing, where test cases are executed using different sets of input data. By parameterizing your test scripts in Langsmith, you can easily test your application with different data inputs to validate its behavior under various scenarios.\\n\\n7. **Reporting and Analysis**: Langsmith provides detailed reports and logs that can help you analyze test results, identify issues, and track the progress of your testing efforts. You can use these reports to communicate test findings with your team and stakeholders.\\n\\nOverall, Langsmith can be a valuable tool for testing teams to streamline testing processes, improve test coverage, and ensure the quality of software applications. By leveraging the capabilities of Langsmith, you can enhance the efficiency and effectiveness of your testing efforts.', response_metadata={'token_usage': {'completion_tokens': 442, 'prompt_tokens': 27, 'total_tokens': 469}, 'model_name': 'gpt-3.5-turbo', 'system_fingerprint': None, 'finish_reason': 'stop', 'logprobs': None}, id='run-3d2dc6d0-eb96-4f11-a4f6-d3a124abb829-0')"
      ]
     },
     "execution_count": 6,
     "metadata": {},
     "output_type": "execute_result"
    }
   ],
   "source": [
    "# test the chain\n",
    "chain.invoke(\"how can langsmith help with testing?\")"
   ]
  },
  {
   "cell_type": "code",
   "execution_count": 7,
   "metadata": {},
   "outputs": [],
   "source": [
    "# use an output parser to make the response more readable\n",
    "from langchain_core.output_parsers import StrOutputParser\n",
    "output_parser = StrOutputParser()\n",
    "chain = prompt | llm | output_parser"
   ]
  },
  {
   "cell_type": "code",
   "execution_count": 8,
   "metadata": {},
   "outputs": [
    {
     "data": {
      "text/plain": [
       "\"Langsmith is a versatile tool that can greatly assist in testing processes by providing language-specific analysis and processing capabilities. Here are some ways in which Langsmith can help with testing:\\n\\n1. **Code Review**: Langsmith can be used to perform automated code reviews by analyzing the code for language-specific best practices, style guidelines, and potential issues. This can help ensure that the code meets quality standards before being deployed.\\n\\n2. **Static Code Analysis**: Langsmith can be integrated into the testing pipeline to perform static code analysis. It can identify potential bugs, security vulnerabilities, and performance issues in the codebase, helping testers catch issues early in the development cycle.\\n\\n3. **Code Refactoring**: Langsmith's language-specific capabilities can assist in automating code refactoring tasks. It can identify code smells, redundant code, and opportunities for optimization, making it easier for testers to improve code quality and maintainability.\\n\\n4. **Test Data Generation**: Langsmith can be used to generate test data based on the structure and semantics of the code. This can help testers create comprehensive test suites that cover various scenarios and edge cases, improving test coverage and effectiveness.\\n\\n5. **Error Detection**: Langsmith can help testers identify potential errors in the code by analyzing code patterns, syntax, and semantics. This can aid in detecting common programming mistakes and preventing bugs from being introduced into the system.\\n\\n6. **Performance Analysis**: Langsmith can analyze code performance metrics and suggest optimizations to improve the efficiency of the code. Testers can use this information to identify bottlenecks, optimize critical sections, and ensure that the code meets performance requirements.\\n\\nOverall, Langsmith can be a valuable tool in the testing process, helping testers improve code quality, identify issues early, and streamline testing efforts. By leveraging its language-specific capabilities, testers can enhance their testing strategies and deliver high-quality software products.\""
      ]
     },
     "execution_count": 8,
     "metadata": {},
     "output_type": "execute_result"
    }
   ],
   "source": [
    "# test the new chain\n",
    "chain.invoke(\"how can langsmith help with testing?\")"
   ]
  }
 ],
 "metadata": {
  "kernelspec": {
   "display_name": "venv",
   "language": "python",
   "name": "python3"
  },
  "language_info": {
   "codemirror_mode": {
    "name": "ipython",
    "version": 3
   },
   "file_extension": ".py",
   "mimetype": "text/x-python",
   "name": "python",
   "nbconvert_exporter": "python",
   "pygments_lexer": "ipython3",
   "version": "3.11.5"
  }
 },
 "nbformat": 4,
 "nbformat_minor": 2
}
